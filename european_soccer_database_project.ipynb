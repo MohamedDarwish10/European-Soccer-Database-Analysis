{
 "cells": [
  {
   "cell_type": "markdown",
   "id": "5efc8c0a-e544-437f-8ad7-3676f0c876b4",
   "metadata": {},
   "source": [
    "# Project: European Soccer Database\n",
    "\n",
    "## Table of Contents\n",
    "<ul>\n",
    "<li><a href=\"#intro\">Introduction</a></li>\n",
    "<li><a href=\"#wrangling\">Data Wrangling</a></li>\n",
    "<li><a href=\"#eda\">Exploratory Data Analysis</a></li>\n",
    "<li><a href=\"#conclusions\">Conclusions</a></li>\n",
    "</ul>"
   ]
  },
  {
   "cell_type": "markdown",
   "id": "9f2a3acb-1a79-4733-8c20-9c46e9ac8b53",
   "metadata": {},
   "source": [
    "<a id='intro'></a>\n",
    "## Introduction\n",
    "\n",
    "### Dataset Description \n",
    "\n",
    "> This project uses an SQLite based database containing data about 11 European Countries with their lead championship, +10,000 players, +25,000 matches, and Players and Teams' attributes sourced from EA Sports' FIFA video game series, including the weekly updates. This data was obtained from Kaggle website: https://www.kaggle.com/hugomathien/soccer?select=database.sqlite\n",
    ">\n",
    "\n",
    "\n",
    "### Question(s) for Analysis\n",
    "> In this project, we will answer the following questions:\n",
    ">> What Season has the most scored goals over the time period?\n",
    ">>\n",
    ">> Which teams scored the most home goals and away goals over the time period?\n",
    ">>\n",
    ">> Which players had the most penalties?\n",
    ">>\n",
    ">> In what percentage does the field affect the result?\n",
    "\n",
    "> First, import the packages that will be used throughout the project"
   ]
  },
  {
   "cell_type": "code",
   "execution_count": 149,
   "id": "606f0bcf-b189-4f74-a2cc-613573d71a7a",
   "metadata": {},
   "outputs": [],
   "source": [
    "import pandas as pd\n",
    "import numpy as np\n",
    "import seaborn as sns\n",
    "from matplotlib import cm\n",
    "%matplotlib inline\n",
    "import matplotlib.pyplot as plt\n",
    "import sqlite3\n",
    "from bs4 import BeautifulSoup"
   ]
  },
  {
   "cell_type": "markdown",
   "id": "f24057a0-c6a3-4b7a-9357-fbe7b3f5ebd0",
   "metadata": {},
   "source": [
    "<a id='wrangling'></a>\n",
    "## Data Wrangling\n",
    "\n",
    "> In this section of the report, we will load in the data, check for cleanliness, and then trim and clean the dataset for analysis.\n",
    "\n",
    "### General Properties"
   ]
  },
  {
   "cell_type": "code",
   "execution_count": 150,
   "id": "4a8a5c10-8961-4230-b416-a0bbd49b4847",
   "metadata": {},
   "outputs": [
    {
     "data": {
      "text/html": [
       "<div>\n",
       "<style scoped>\n",
       "    .dataframe tbody tr th:only-of-type {\n",
       "        vertical-align: middle;\n",
       "    }\n",
       "\n",
       "    .dataframe tbody tr th {\n",
       "        vertical-align: top;\n",
       "    }\n",
       "\n",
       "    .dataframe thead th {\n",
       "        text-align: right;\n",
       "    }\n",
       "</style>\n",
       "<table border=\"1\" class=\"dataframe\">\n",
       "  <thead>\n",
       "    <tr style=\"text-align: right;\">\n",
       "      <th></th>\n",
       "      <th>id</th>\n",
       "      <th>name</th>\n",
       "    </tr>\n",
       "  </thead>\n",
       "  <tbody>\n",
       "    <tr>\n",
       "      <th>0</th>\n",
       "      <td>1</td>\n",
       "      <td>Belgium</td>\n",
       "    </tr>\n",
       "    <tr>\n",
       "      <th>1</th>\n",
       "      <td>1729</td>\n",
       "      <td>England</td>\n",
       "    </tr>\n",
       "  </tbody>\n",
       "</table>\n",
       "</div>"
      ],
      "text/plain": [
       "     id     name\n",
       "0     1  Belgium\n",
       "1  1729  England"
      ]
     },
     "execution_count": 150,
     "metadata": {},
     "output_type": "execute_result"
    }
   ],
   "source": [
    "# Load the data from the dataset\n",
    "con = sqlite3.connect(\"database.sqlite\")\n",
    "\n",
    "df_coun = pd.read_sql_query(\"SELECT * from Country\", con)\n",
    "# Verify that result of SQL query is stored in the dataframe\n",
    "df_coun.head(2)\n",
    "    "
   ]
  },
  {
   "cell_type": "code",
   "execution_count": 151,
   "id": "202da0cf-935c-4885-893b-74974910f8b7",
   "metadata": {},
   "outputs": [
    {
     "data": {
      "text/html": [
       "<div>\n",
       "<style scoped>\n",
       "    .dataframe tbody tr th:only-of-type {\n",
       "        vertical-align: middle;\n",
       "    }\n",
       "\n",
       "    .dataframe tbody tr th {\n",
       "        vertical-align: top;\n",
       "    }\n",
       "\n",
       "    .dataframe thead th {\n",
       "        text-align: right;\n",
       "    }\n",
       "</style>\n",
       "<table border=\"1\" class=\"dataframe\">\n",
       "  <thead>\n",
       "    <tr style=\"text-align: right;\">\n",
       "      <th></th>\n",
       "      <th>id</th>\n",
       "      <th>country_id</th>\n",
       "      <th>name</th>\n",
       "    </tr>\n",
       "  </thead>\n",
       "  <tbody>\n",
       "    <tr>\n",
       "      <th>0</th>\n",
       "      <td>1</td>\n",
       "      <td>1</td>\n",
       "      <td>Belgium Jupiler League</td>\n",
       "    </tr>\n",
       "    <tr>\n",
       "      <th>1</th>\n",
       "      <td>1729</td>\n",
       "      <td>1729</td>\n",
       "      <td>England Premier League</td>\n",
       "    </tr>\n",
       "  </tbody>\n",
       "</table>\n",
       "</div>"
      ],
      "text/plain": [
       "     id  country_id                    name\n",
       "0     1           1  Belgium Jupiler League\n",
       "1  1729        1729  England Premier League"
      ]
     },
     "execution_count": 151,
     "metadata": {},
     "output_type": "execute_result"
    }
   ],
   "source": [
    "df_leag = pd.read_sql_query(\"SELECT * from League\", con)\n",
    "df_leag.head(2)"
   ]
  },
  {
   "cell_type": "code",
   "execution_count": 152,
   "id": "4557a538-b920-42ca-912b-fe883862412b",
   "metadata": {},
   "outputs": [
    {
     "data": {
      "text/html": [
       "<div>\n",
       "<style scoped>\n",
       "    .dataframe tbody tr th:only-of-type {\n",
       "        vertical-align: middle;\n",
       "    }\n",
       "\n",
       "    .dataframe tbody tr th {\n",
       "        vertical-align: top;\n",
       "    }\n",
       "\n",
       "    .dataframe thead th {\n",
       "        text-align: right;\n",
       "    }\n",
       "</style>\n",
       "<table border=\"1\" class=\"dataframe\">\n",
       "  <thead>\n",
       "    <tr style=\"text-align: right;\">\n",
       "      <th></th>\n",
       "      <th>id</th>\n",
       "      <th>country_id</th>\n",
       "      <th>league_id</th>\n",
       "      <th>season</th>\n",
       "      <th>stage</th>\n",
       "      <th>date</th>\n",
       "      <th>match_api_id</th>\n",
       "      <th>home_team_api_id</th>\n",
       "      <th>away_team_api_id</th>\n",
       "      <th>home_team_goal</th>\n",
       "      <th>...</th>\n",
       "      <th>SJA</th>\n",
       "      <th>VCH</th>\n",
       "      <th>VCD</th>\n",
       "      <th>VCA</th>\n",
       "      <th>GBH</th>\n",
       "      <th>GBD</th>\n",
       "      <th>GBA</th>\n",
       "      <th>BSH</th>\n",
       "      <th>BSD</th>\n",
       "      <th>BSA</th>\n",
       "    </tr>\n",
       "  </thead>\n",
       "  <tbody>\n",
       "    <tr>\n",
       "      <th>0</th>\n",
       "      <td>1</td>\n",
       "      <td>1</td>\n",
       "      <td>1</td>\n",
       "      <td>2008/2009</td>\n",
       "      <td>1</td>\n",
       "      <td>2008-08-17 00:00:00</td>\n",
       "      <td>492473</td>\n",
       "      <td>9987</td>\n",
       "      <td>9993</td>\n",
       "      <td>1</td>\n",
       "      <td>...</td>\n",
       "      <td>4.0</td>\n",
       "      <td>1.65</td>\n",
       "      <td>3.40</td>\n",
       "      <td>4.50</td>\n",
       "      <td>1.78</td>\n",
       "      <td>3.25</td>\n",
       "      <td>4.00</td>\n",
       "      <td>1.73</td>\n",
       "      <td>3.40</td>\n",
       "      <td>4.2</td>\n",
       "    </tr>\n",
       "    <tr>\n",
       "      <th>1</th>\n",
       "      <td>2</td>\n",
       "      <td>1</td>\n",
       "      <td>1</td>\n",
       "      <td>2008/2009</td>\n",
       "      <td>1</td>\n",
       "      <td>2008-08-16 00:00:00</td>\n",
       "      <td>492474</td>\n",
       "      <td>10000</td>\n",
       "      <td>9994</td>\n",
       "      <td>0</td>\n",
       "      <td>...</td>\n",
       "      <td>3.8</td>\n",
       "      <td>2.00</td>\n",
       "      <td>3.25</td>\n",
       "      <td>3.25</td>\n",
       "      <td>1.85</td>\n",
       "      <td>3.25</td>\n",
       "      <td>3.75</td>\n",
       "      <td>1.91</td>\n",
       "      <td>3.25</td>\n",
       "      <td>3.6</td>\n",
       "    </tr>\n",
       "  </tbody>\n",
       "</table>\n",
       "<p>2 rows × 115 columns</p>\n",
       "</div>"
      ],
      "text/plain": [
       "   id  country_id  league_id     season  stage                 date  \\\n",
       "0   1           1          1  2008/2009      1  2008-08-17 00:00:00   \n",
       "1   2           1          1  2008/2009      1  2008-08-16 00:00:00   \n",
       "\n",
       "   match_api_id  home_team_api_id  away_team_api_id  home_team_goal  ...  SJA  \\\n",
       "0        492473              9987              9993               1  ...  4.0   \n",
       "1        492474             10000              9994               0  ...  3.8   \n",
       "\n",
       "    VCH   VCD   VCA   GBH   GBD   GBA   BSH   BSD  BSA  \n",
       "0  1.65  3.40  4.50  1.78  3.25  4.00  1.73  3.40  4.2  \n",
       "1  2.00  3.25  3.25  1.85  3.25  3.75  1.91  3.25  3.6  \n",
       "\n",
       "[2 rows x 115 columns]"
      ]
     },
     "execution_count": 152,
     "metadata": {},
     "output_type": "execute_result"
    }
   ],
   "source": [
    "df_match = pd.read_sql_query(\"SELECT * from Match\", con)\n",
    "df_match.head(2)"
   ]
  },
  {
   "cell_type": "code",
   "execution_count": 153,
   "id": "3eb20171-02b8-4931-b67f-03b8727be242",
   "metadata": {},
   "outputs": [
    {
     "data": {
      "text/html": [
       "<div>\n",
       "<style scoped>\n",
       "    .dataframe tbody tr th:only-of-type {\n",
       "        vertical-align: middle;\n",
       "    }\n",
       "\n",
       "    .dataframe tbody tr th {\n",
       "        vertical-align: top;\n",
       "    }\n",
       "\n",
       "    .dataframe thead th {\n",
       "        text-align: right;\n",
       "    }\n",
       "</style>\n",
       "<table border=\"1\" class=\"dataframe\">\n",
       "  <thead>\n",
       "    <tr style=\"text-align: right;\">\n",
       "      <th></th>\n",
       "      <th>id</th>\n",
       "      <th>player_api_id</th>\n",
       "      <th>player_name</th>\n",
       "      <th>player_fifa_api_id</th>\n",
       "      <th>birthday</th>\n",
       "      <th>height</th>\n",
       "      <th>weight</th>\n",
       "    </tr>\n",
       "  </thead>\n",
       "  <tbody>\n",
       "    <tr>\n",
       "      <th>0</th>\n",
       "      <td>1</td>\n",
       "      <td>505942</td>\n",
       "      <td>Aaron Appindangoye</td>\n",
       "      <td>218353</td>\n",
       "      <td>1992-02-29 00:00:00</td>\n",
       "      <td>182.88</td>\n",
       "      <td>187</td>\n",
       "    </tr>\n",
       "    <tr>\n",
       "      <th>1</th>\n",
       "      <td>2</td>\n",
       "      <td>155782</td>\n",
       "      <td>Aaron Cresswell</td>\n",
       "      <td>189615</td>\n",
       "      <td>1989-12-15 00:00:00</td>\n",
       "      <td>170.18</td>\n",
       "      <td>146</td>\n",
       "    </tr>\n",
       "  </tbody>\n",
       "</table>\n",
       "</div>"
      ],
      "text/plain": [
       "   id  player_api_id         player_name  player_fifa_api_id  \\\n",
       "0   1         505942  Aaron Appindangoye              218353   \n",
       "1   2         155782     Aaron Cresswell              189615   \n",
       "\n",
       "              birthday  height  weight  \n",
       "0  1992-02-29 00:00:00  182.88     187  \n",
       "1  1989-12-15 00:00:00  170.18     146  "
      ]
     },
     "execution_count": 153,
     "metadata": {},
     "output_type": "execute_result"
    }
   ],
   "source": [
    "df_player = pd.read_sql_query(\"SELECT * from Player\", con)\n",
    "df_player.head(2)"
   ]
  },
  {
   "cell_type": "code",
   "execution_count": 154,
   "id": "ffe60115-1b57-4e6e-a910-92e9146945dc",
   "metadata": {},
   "outputs": [
    {
     "data": {
      "text/html": [
       "<div>\n",
       "<style scoped>\n",
       "    .dataframe tbody tr th:only-of-type {\n",
       "        vertical-align: middle;\n",
       "    }\n",
       "\n",
       "    .dataframe tbody tr th {\n",
       "        vertical-align: top;\n",
       "    }\n",
       "\n",
       "    .dataframe thead th {\n",
       "        text-align: right;\n",
       "    }\n",
       "</style>\n",
       "<table border=\"1\" class=\"dataframe\">\n",
       "  <thead>\n",
       "    <tr style=\"text-align: right;\">\n",
       "      <th></th>\n",
       "      <th>id</th>\n",
       "      <th>player_fifa_api_id</th>\n",
       "      <th>player_api_id</th>\n",
       "      <th>date</th>\n",
       "      <th>overall_rating</th>\n",
       "      <th>potential</th>\n",
       "      <th>preferred_foot</th>\n",
       "      <th>attacking_work_rate</th>\n",
       "      <th>defensive_work_rate</th>\n",
       "      <th>crossing</th>\n",
       "      <th>...</th>\n",
       "      <th>vision</th>\n",
       "      <th>penalties</th>\n",
       "      <th>marking</th>\n",
       "      <th>standing_tackle</th>\n",
       "      <th>sliding_tackle</th>\n",
       "      <th>gk_diving</th>\n",
       "      <th>gk_handling</th>\n",
       "      <th>gk_kicking</th>\n",
       "      <th>gk_positioning</th>\n",
       "      <th>gk_reflexes</th>\n",
       "    </tr>\n",
       "  </thead>\n",
       "  <tbody>\n",
       "    <tr>\n",
       "      <th>0</th>\n",
       "      <td>1</td>\n",
       "      <td>218353</td>\n",
       "      <td>505942</td>\n",
       "      <td>2016-02-18 00:00:00</td>\n",
       "      <td>67.0</td>\n",
       "      <td>71.0</td>\n",
       "      <td>right</td>\n",
       "      <td>medium</td>\n",
       "      <td>medium</td>\n",
       "      <td>49.0</td>\n",
       "      <td>...</td>\n",
       "      <td>54.0</td>\n",
       "      <td>48.0</td>\n",
       "      <td>65.0</td>\n",
       "      <td>69.0</td>\n",
       "      <td>69.0</td>\n",
       "      <td>6.0</td>\n",
       "      <td>11.0</td>\n",
       "      <td>10.0</td>\n",
       "      <td>8.0</td>\n",
       "      <td>8.0</td>\n",
       "    </tr>\n",
       "    <tr>\n",
       "      <th>1</th>\n",
       "      <td>2</td>\n",
       "      <td>218353</td>\n",
       "      <td>505942</td>\n",
       "      <td>2015-11-19 00:00:00</td>\n",
       "      <td>67.0</td>\n",
       "      <td>71.0</td>\n",
       "      <td>right</td>\n",
       "      <td>medium</td>\n",
       "      <td>medium</td>\n",
       "      <td>49.0</td>\n",
       "      <td>...</td>\n",
       "      <td>54.0</td>\n",
       "      <td>48.0</td>\n",
       "      <td>65.0</td>\n",
       "      <td>69.0</td>\n",
       "      <td>69.0</td>\n",
       "      <td>6.0</td>\n",
       "      <td>11.0</td>\n",
       "      <td>10.0</td>\n",
       "      <td>8.0</td>\n",
       "      <td>8.0</td>\n",
       "    </tr>\n",
       "  </tbody>\n",
       "</table>\n",
       "<p>2 rows × 42 columns</p>\n",
       "</div>"
      ],
      "text/plain": [
       "   id  player_fifa_api_id  player_api_id                 date  overall_rating  \\\n",
       "0   1              218353         505942  2016-02-18 00:00:00            67.0   \n",
       "1   2              218353         505942  2015-11-19 00:00:00            67.0   \n",
       "\n",
       "   potential preferred_foot attacking_work_rate defensive_work_rate  crossing  \\\n",
       "0       71.0          right              medium              medium      49.0   \n",
       "1       71.0          right              medium              medium      49.0   \n",
       "\n",
       "   ...  vision  penalties  marking  standing_tackle  sliding_tackle  \\\n",
       "0  ...    54.0       48.0     65.0             69.0            69.0   \n",
       "1  ...    54.0       48.0     65.0             69.0            69.0   \n",
       "\n",
       "   gk_diving  gk_handling  gk_kicking  gk_positioning  gk_reflexes  \n",
       "0        6.0         11.0        10.0             8.0          8.0  \n",
       "1        6.0         11.0        10.0             8.0          8.0  \n",
       "\n",
       "[2 rows x 42 columns]"
      ]
     },
     "execution_count": 154,
     "metadata": {},
     "output_type": "execute_result"
    }
   ],
   "source": [
    "df_player_attr = pd.read_sql_query(\"SELECT * from Player_Attributes\", con)\n",
    "df_player_attr.head(2)"
   ]
  },
  {
   "cell_type": "code",
   "execution_count": 155,
   "id": "8b321fc8-1def-4aef-a819-8ea4ed89a9ef",
   "metadata": {},
   "outputs": [
    {
     "data": {
      "text/html": [
       "<div>\n",
       "<style scoped>\n",
       "    .dataframe tbody tr th:only-of-type {\n",
       "        vertical-align: middle;\n",
       "    }\n",
       "\n",
       "    .dataframe tbody tr th {\n",
       "        vertical-align: top;\n",
       "    }\n",
       "\n",
       "    .dataframe thead th {\n",
       "        text-align: right;\n",
       "    }\n",
       "</style>\n",
       "<table border=\"1\" class=\"dataframe\">\n",
       "  <thead>\n",
       "    <tr style=\"text-align: right;\">\n",
       "      <th></th>\n",
       "      <th>id</th>\n",
       "      <th>team_api_id</th>\n",
       "      <th>team_fifa_api_id</th>\n",
       "      <th>team_long_name</th>\n",
       "      <th>team_short_name</th>\n",
       "    </tr>\n",
       "  </thead>\n",
       "  <tbody>\n",
       "    <tr>\n",
       "      <th>0</th>\n",
       "      <td>1</td>\n",
       "      <td>9987</td>\n",
       "      <td>673.0</td>\n",
       "      <td>KRC Genk</td>\n",
       "      <td>GEN</td>\n",
       "    </tr>\n",
       "    <tr>\n",
       "      <th>1</th>\n",
       "      <td>2</td>\n",
       "      <td>9993</td>\n",
       "      <td>675.0</td>\n",
       "      <td>Beerschot AC</td>\n",
       "      <td>BAC</td>\n",
       "    </tr>\n",
       "  </tbody>\n",
       "</table>\n",
       "</div>"
      ],
      "text/plain": [
       "   id  team_api_id  team_fifa_api_id team_long_name team_short_name\n",
       "0   1         9987             673.0       KRC Genk             GEN\n",
       "1   2         9993             675.0   Beerschot AC             BAC"
      ]
     },
     "execution_count": 155,
     "metadata": {},
     "output_type": "execute_result"
    }
   ],
   "source": [
    "df_team = pd.read_sql_query(\"SELECT * from Team\", con)\n",
    "df_team.head(2)"
   ]
  },
  {
   "cell_type": "code",
   "execution_count": 156,
   "id": "6d11e05a-5067-4633-bad1-7a50bec2c3c5",
   "metadata": {},
   "outputs": [
    {
     "data": {
      "text/html": [
       "<div>\n",
       "<style scoped>\n",
       "    .dataframe tbody tr th:only-of-type {\n",
       "        vertical-align: middle;\n",
       "    }\n",
       "\n",
       "    .dataframe tbody tr th {\n",
       "        vertical-align: top;\n",
       "    }\n",
       "\n",
       "    .dataframe thead th {\n",
       "        text-align: right;\n",
       "    }\n",
       "</style>\n",
       "<table border=\"1\" class=\"dataframe\">\n",
       "  <thead>\n",
       "    <tr style=\"text-align: right;\">\n",
       "      <th></th>\n",
       "      <th>id</th>\n",
       "      <th>team_fifa_api_id</th>\n",
       "      <th>team_api_id</th>\n",
       "      <th>date</th>\n",
       "      <th>buildUpPlaySpeed</th>\n",
       "      <th>buildUpPlaySpeedClass</th>\n",
       "      <th>buildUpPlayDribbling</th>\n",
       "      <th>buildUpPlayDribblingClass</th>\n",
       "      <th>buildUpPlayPassing</th>\n",
       "      <th>buildUpPlayPassingClass</th>\n",
       "      <th>...</th>\n",
       "      <th>chanceCreationShooting</th>\n",
       "      <th>chanceCreationShootingClass</th>\n",
       "      <th>chanceCreationPositioningClass</th>\n",
       "      <th>defencePressure</th>\n",
       "      <th>defencePressureClass</th>\n",
       "      <th>defenceAggression</th>\n",
       "      <th>defenceAggressionClass</th>\n",
       "      <th>defenceTeamWidth</th>\n",
       "      <th>defenceTeamWidthClass</th>\n",
       "      <th>defenceDefenderLineClass</th>\n",
       "    </tr>\n",
       "  </thead>\n",
       "  <tbody>\n",
       "    <tr>\n",
       "      <th>0</th>\n",
       "      <td>1</td>\n",
       "      <td>434</td>\n",
       "      <td>9930</td>\n",
       "      <td>2010-02-22 00:00:00</td>\n",
       "      <td>60</td>\n",
       "      <td>Balanced</td>\n",
       "      <td>NaN</td>\n",
       "      <td>Little</td>\n",
       "      <td>50</td>\n",
       "      <td>Mixed</td>\n",
       "      <td>...</td>\n",
       "      <td>55</td>\n",
       "      <td>Normal</td>\n",
       "      <td>Organised</td>\n",
       "      <td>50</td>\n",
       "      <td>Medium</td>\n",
       "      <td>55</td>\n",
       "      <td>Press</td>\n",
       "      <td>45</td>\n",
       "      <td>Normal</td>\n",
       "      <td>Cover</td>\n",
       "    </tr>\n",
       "    <tr>\n",
       "      <th>1</th>\n",
       "      <td>2</td>\n",
       "      <td>434</td>\n",
       "      <td>9930</td>\n",
       "      <td>2014-09-19 00:00:00</td>\n",
       "      <td>52</td>\n",
       "      <td>Balanced</td>\n",
       "      <td>48.0</td>\n",
       "      <td>Normal</td>\n",
       "      <td>56</td>\n",
       "      <td>Mixed</td>\n",
       "      <td>...</td>\n",
       "      <td>64</td>\n",
       "      <td>Normal</td>\n",
       "      <td>Organised</td>\n",
       "      <td>47</td>\n",
       "      <td>Medium</td>\n",
       "      <td>44</td>\n",
       "      <td>Press</td>\n",
       "      <td>54</td>\n",
       "      <td>Normal</td>\n",
       "      <td>Cover</td>\n",
       "    </tr>\n",
       "  </tbody>\n",
       "</table>\n",
       "<p>2 rows × 25 columns</p>\n",
       "</div>"
      ],
      "text/plain": [
       "   id  team_fifa_api_id  team_api_id                 date  buildUpPlaySpeed  \\\n",
       "0   1               434         9930  2010-02-22 00:00:00                60   \n",
       "1   2               434         9930  2014-09-19 00:00:00                52   \n",
       "\n",
       "  buildUpPlaySpeedClass  buildUpPlayDribbling buildUpPlayDribblingClass  \\\n",
       "0              Balanced                   NaN                    Little   \n",
       "1              Balanced                  48.0                    Normal   \n",
       "\n",
       "   buildUpPlayPassing buildUpPlayPassingClass  ... chanceCreationShooting  \\\n",
       "0                  50                   Mixed  ...                     55   \n",
       "1                  56                   Mixed  ...                     64   \n",
       "\n",
       "   chanceCreationShootingClass chanceCreationPositioningClass  \\\n",
       "0                       Normal                      Organised   \n",
       "1                       Normal                      Organised   \n",
       "\n",
       "   defencePressure defencePressureClass  defenceAggression  \\\n",
       "0               50               Medium                 55   \n",
       "1               47               Medium                 44   \n",
       "\n",
       "  defenceAggressionClass defenceTeamWidth  defenceTeamWidthClass  \\\n",
       "0                  Press               45                 Normal   \n",
       "1                  Press               54                 Normal   \n",
       "\n",
       "  defenceDefenderLineClass  \n",
       "0                    Cover  \n",
       "1                    Cover  \n",
       "\n",
       "[2 rows x 25 columns]"
      ]
     },
     "execution_count": 156,
     "metadata": {},
     "output_type": "execute_result"
    }
   ],
   "source": [
    "df_team_attr = pd.read_sql_query(\"SELECT * from Team_Attributes\", con)\n",
    "df_team_attr.head(2)"
   ]
  },
  {
   "cell_type": "markdown",
   "id": "99bda4c7-37c3-4477-af51-6a4df0ccde89",
   "metadata": {},
   "source": [
    "> #### Merge the dataframes into one dataframe"
   ]
  },
  {
   "cell_type": "markdown",
   "id": "e993c371-a5fa-4921-b21c-a77f2ae1dd6d",
   "metadata": {},
   "source": [
    ">Merge the match dataframe with team info"
   ]
  },
  {
   "cell_type": "code",
   "execution_count": 157,
   "id": "d953f99e-9b6b-49e5-9a1a-c03f25891173",
   "metadata": {},
   "outputs": [],
   "source": [
    "df_match_merg = df_match.merge(df_team[['team_api_id', 'team_long_name']], left_on = 'home_team_api_id',\n",
    "                                      right_on = 'team_api_id', how = 'left', suffixes = ('_match', '_team'))\n",
    "df_match_merg.rename(columns = {'team_api_id': 'team_api_id_home', 'team_long_name': 'home_team'}, inplace = True)\n",
    "df_match_merg = df_match_merg.merge(df_team[['team_api_id', 'team_long_name']], left_on = 'away_team_api_id',\n",
    "                                      right_on = 'team_api_id', how = 'left', suffixes = ('_match','_away'))\n",
    "df_match_merg.rename(columns = {'team_api_id': 'team_api_id_home', 'team_long_name': 'away_team'}, inplace = True)"
   ]
  },
  {
   "cell_type": "markdown",
   "id": "ac079b26-e4a0-4448-905f-85e24de4850b",
   "metadata": {},
   "source": [
    ">Merge the match dataframe with country info"
   ]
  },
  {
   "cell_type": "code",
   "execution_count": 158,
   "id": "b60d72e6-d82c-4626-8be2-86f2ee669df6",
   "metadata": {},
   "outputs": [],
   "source": [
    "df_match_merg = df_match_merg.merge(df_coun, left_on = 'country_id', right_on = 'id', how = 'left', suffixes = ('_match', '_country'))\n",
    "df_match_merg.rename(columns = {'name': 'country'}, inplace = True)\n"
   ]
  },
  {
   "cell_type": "markdown",
   "id": "a5fcfdc3-710c-47a4-b8c6-c388de8db4f1",
   "metadata": {},
   "source": [
    ">Merge the match dataframe with league info"
   ]
  },
  {
   "cell_type": "code",
   "execution_count": 159,
   "id": "9acae39a-6056-4dfd-8404-18a61eeb9d71",
   "metadata": {},
   "outputs": [],
   "source": [
    "df_match_merg = df_match_merg.merge(df_leag, left_on = 'league_id', right_on = 'id', how = 'left', suffixes = ('_match', '_league'))\n",
    "df_match_merg.rename(columns = {'id': 'id_league', 'name':'league'}, inplace = True)"
   ]
  },
  {
   "cell_type": "markdown",
   "id": "a0186f70-6486-4da1-9984-506565d4d001",
   "metadata": {},
   "source": [
    ">Create a goals in match column"
   ]
  },
  {
   "cell_type": "code",
   "execution_count": 160,
   "id": "7e888f11-adf8-4fe7-b680-6336c2e1dfdc",
   "metadata": {},
   "outputs": [],
   "source": [
    "df_match_merg['total_goals'] = df_match_merg['home_team_goal'] + df_match_merg['away_team_goal']"
   ]
  },
  {
   "cell_type": "markdown",
   "id": "7fc6f59f-1e35-4416-936a-5027cfb8349f",
   "metadata": {},
   "source": [
    ">Change the type of the date column into datetime"
   ]
  },
  {
   "cell_type": "code",
   "execution_count": 161,
   "id": "86755728-b815-4686-a61f-1bcbb43f34ab",
   "metadata": {},
   "outputs": [],
   "source": [
    "df_match_merg['date'] = pd.to_datetime(df_match_merg['date'])\n"
   ]
  },
  {
   "cell_type": "markdown",
   "id": "46430640-b3ea-4086-949e-1d361b0b5504",
   "metadata": {},
   "source": [
    ">Create a winning team column stating the match winning team using dataframe.loc "
   ]
  },
  {
   "cell_type": "code",
   "execution_count": 162,
   "id": "49e188c3-3087-4745-8914-3788af809974",
   "metadata": {},
   "outputs": [],
   "source": [
    "df_match_merg.loc[df_match_merg['home_team_goal'] > df_match_merg['away_team_goal'], 'winning_team'] = df_match_merg['home_team']\n",
    "df_match_merg.loc[df_match_merg['away_team_goal'] > df_match_merg['home_team_goal'], 'winning_team'] = df_match_merg['away_team']\n",
    "# in case of draw\n",
    "df_match_merg.loc[df_match_merg['home_team_goal'] == df_match_merg['away_team_goal'], 'winning_team'] = np.nan"
   ]
  },
  {
   "cell_type": "markdown",
   "id": "b51b5969-860b-4511-bb52-f3da4cfdaabe",
   "metadata": {},
   "source": [
    ">The same for the match losing team"
   ]
  },
  {
   "cell_type": "code",
   "execution_count": 163,
   "id": "6f08e2b5-99be-4555-884f-c3b2ff9e43fd",
   "metadata": {},
   "outputs": [],
   "source": [
    "df_match_merg.loc[df_match_merg['home_team_goal'] > df_match_merg['away_team_goal'], 'losing_team'] = df_match_merg['away_team']\n",
    "df_match_merg.loc[df_match_merg['away_team_goal'] > df_match_merg['home_team_goal'], 'losing_team'] = df_match_merg['home_team']\n",
    "# in case of draw\n",
    "df_match_merg.loc[df_match_merg['home_team_goal'] == df_match_merg['away_team_goal'], 'losing_team'] = np.nan"
   ]
  },
  {
   "cell_type": "markdown",
   "id": "4ca5e661-c340-4a7c-b403-6e7f0445e10f",
   "metadata": {},
   "source": [
    ">Create a result column for to indicate the winner of the match (HW: home win, AW: away win, D: draw)"
   ]
  },
  {
   "cell_type": "code",
   "execution_count": 164,
   "id": "1847c324-7bf5-45fc-b9b6-080f95dd3084",
   "metadata": {},
   "outputs": [],
   "source": [
    "df_match_merg.loc[df_match_merg['home_team_goal'] > df_match_merg['away_team_goal'], 'result'] = 'HW'\n",
    "df_match_merg.loc[df_match_merg['away_team_goal'] > df_match_merg['home_team_goal'], 'result'] = 'AW'\n",
    "df_match_merg.loc[df_match_merg['home_team_goal'] == df_match_merg['away_team_goal'], 'result'] = 'D'"
   ]
  },
  {
   "cell_type": "code",
   "execution_count": 165,
   "id": "4dc3d847-a17d-406c-baf4-6f8134b30838",
   "metadata": {},
   "outputs": [
    {
     "data": {
      "text/html": [
       "<div>\n",
       "<style scoped>\n",
       "    .dataframe tbody tr th:only-of-type {\n",
       "        vertical-align: middle;\n",
       "    }\n",
       "\n",
       "    .dataframe tbody tr th {\n",
       "        vertical-align: top;\n",
       "    }\n",
       "\n",
       "    .dataframe thead th {\n",
       "        text-align: right;\n",
       "    }\n",
       "</style>\n",
       "<table border=\"1\" class=\"dataframe\">\n",
       "  <thead>\n",
       "    <tr style=\"text-align: right;\">\n",
       "      <th></th>\n",
       "      <th>id_match</th>\n",
       "      <th>country_id_match</th>\n",
       "      <th>league_id</th>\n",
       "      <th>season</th>\n",
       "      <th>stage</th>\n",
       "      <th>date</th>\n",
       "      <th>match_api_id</th>\n",
       "      <th>home_team_api_id</th>\n",
       "      <th>away_team_api_id</th>\n",
       "      <th>home_team_goal</th>\n",
       "      <th>...</th>\n",
       "      <th>away_team</th>\n",
       "      <th>id_country</th>\n",
       "      <th>country</th>\n",
       "      <th>id_league</th>\n",
       "      <th>country_id_league</th>\n",
       "      <th>league</th>\n",
       "      <th>total_goals</th>\n",
       "      <th>winning_team</th>\n",
       "      <th>losing_team</th>\n",
       "      <th>result</th>\n",
       "    </tr>\n",
       "  </thead>\n",
       "  <tbody>\n",
       "    <tr>\n",
       "      <th>0</th>\n",
       "      <td>1</td>\n",
       "      <td>1</td>\n",
       "      <td>1</td>\n",
       "      <td>2008/2009</td>\n",
       "      <td>1</td>\n",
       "      <td>2008-08-17</td>\n",
       "      <td>492473</td>\n",
       "      <td>9987</td>\n",
       "      <td>9993</td>\n",
       "      <td>1</td>\n",
       "      <td>...</td>\n",
       "      <td>Beerschot AC</td>\n",
       "      <td>1</td>\n",
       "      <td>Belgium</td>\n",
       "      <td>1</td>\n",
       "      <td>1</td>\n",
       "      <td>Belgium Jupiler League</td>\n",
       "      <td>2</td>\n",
       "      <td>NaN</td>\n",
       "      <td>NaN</td>\n",
       "      <td>D</td>\n",
       "    </tr>\n",
       "    <tr>\n",
       "      <th>1</th>\n",
       "      <td>2</td>\n",
       "      <td>1</td>\n",
       "      <td>1</td>\n",
       "      <td>2008/2009</td>\n",
       "      <td>1</td>\n",
       "      <td>2008-08-16</td>\n",
       "      <td>492474</td>\n",
       "      <td>10000</td>\n",
       "      <td>9994</td>\n",
       "      <td>0</td>\n",
       "      <td>...</td>\n",
       "      <td>Sporting Lokeren</td>\n",
       "      <td>1</td>\n",
       "      <td>Belgium</td>\n",
       "      <td>1</td>\n",
       "      <td>1</td>\n",
       "      <td>Belgium Jupiler League</td>\n",
       "      <td>0</td>\n",
       "      <td>NaN</td>\n",
       "      <td>NaN</td>\n",
       "      <td>D</td>\n",
       "    </tr>\n",
       "  </tbody>\n",
       "</table>\n",
       "<p>2 rows × 128 columns</p>\n",
       "</div>"
      ],
      "text/plain": [
       "   id_match  country_id_match  league_id     season  stage       date  \\\n",
       "0         1                 1          1  2008/2009      1 2008-08-17   \n",
       "1         2                 1          1  2008/2009      1 2008-08-16   \n",
       "\n",
       "   match_api_id  home_team_api_id  away_team_api_id  home_team_goal  ...  \\\n",
       "0        492473              9987              9993               1  ...   \n",
       "1        492474             10000              9994               0  ...   \n",
       "\n",
       "          away_team  id_country  country  id_league  country_id_league  \\\n",
       "0      Beerschot AC           1  Belgium          1                  1   \n",
       "1  Sporting Lokeren           1  Belgium          1                  1   \n",
       "\n",
       "                   league  total_goals  winning_team  losing_team  result  \n",
       "0  Belgium Jupiler League            2           NaN          NaN       D  \n",
       "1  Belgium Jupiler League            0           NaN          NaN       D  \n",
       "\n",
       "[2 rows x 128 columns]"
      ]
     },
     "execution_count": 165,
     "metadata": {},
     "output_type": "execute_result"
    }
   ],
   "source": [
    "df_match_merg.head(2)"
   ]
  },
  {
   "cell_type": "markdown",
   "id": "5284197d-c18c-4a64-a8f8-03923f98b7a3",
   "metadata": {},
   "source": [
    "### Data Cleaning "
   ]
  },
  {
   "cell_type": "markdown",
   "id": "4a527ced-78bb-422b-a899-7c709053d935",
   "metadata": {},
   "source": [
    "> Select the desired columns from the merged match dataframe and insert them into a new dataframe to analyse"
   ]
  },
  {
   "cell_type": "code",
   "execution_count": 166,
   "id": "ba78693a-05fb-4426-945f-8bf4af0bdcbf",
   "metadata": {},
   "outputs": [
    {
     "data": {
      "text/html": [
       "<div>\n",
       "<style scoped>\n",
       "    .dataframe tbody tr th:only-of-type {\n",
       "        vertical-align: middle;\n",
       "    }\n",
       "\n",
       "    .dataframe tbody tr th {\n",
       "        vertical-align: top;\n",
       "    }\n",
       "\n",
       "    .dataframe thead th {\n",
       "        text-align: right;\n",
       "    }\n",
       "</style>\n",
       "<table border=\"1\" class=\"dataframe\">\n",
       "  <thead>\n",
       "    <tr style=\"text-align: right;\">\n",
       "      <th></th>\n",
       "      <th>season</th>\n",
       "      <th>stage</th>\n",
       "      <th>date</th>\n",
       "      <th>country</th>\n",
       "      <th>league</th>\n",
       "      <th>home_team</th>\n",
       "      <th>away_team</th>\n",
       "      <th>home_team_goal</th>\n",
       "      <th>away_team_goal</th>\n",
       "      <th>total_goals</th>\n",
       "      <th>winning_team</th>\n",
       "      <th>losing_team</th>\n",
       "      <th>result</th>\n",
       "    </tr>\n",
       "  </thead>\n",
       "  <tbody>\n",
       "    <tr>\n",
       "      <th>0</th>\n",
       "      <td>2008/2009</td>\n",
       "      <td>1</td>\n",
       "      <td>2008-08-17</td>\n",
       "      <td>Belgium</td>\n",
       "      <td>Belgium Jupiler League</td>\n",
       "      <td>KRC Genk</td>\n",
       "      <td>Beerschot AC</td>\n",
       "      <td>1</td>\n",
       "      <td>1</td>\n",
       "      <td>2</td>\n",
       "      <td>NaN</td>\n",
       "      <td>NaN</td>\n",
       "      <td>D</td>\n",
       "    </tr>\n",
       "    <tr>\n",
       "      <th>1</th>\n",
       "      <td>2008/2009</td>\n",
       "      <td>1</td>\n",
       "      <td>2008-08-16</td>\n",
       "      <td>Belgium</td>\n",
       "      <td>Belgium Jupiler League</td>\n",
       "      <td>SV Zulte-Waregem</td>\n",
       "      <td>Sporting Lokeren</td>\n",
       "      <td>0</td>\n",
       "      <td>0</td>\n",
       "      <td>0</td>\n",
       "      <td>NaN</td>\n",
       "      <td>NaN</td>\n",
       "      <td>D</td>\n",
       "    </tr>\n",
       "    <tr>\n",
       "      <th>2</th>\n",
       "      <td>2008/2009</td>\n",
       "      <td>1</td>\n",
       "      <td>2008-08-16</td>\n",
       "      <td>Belgium</td>\n",
       "      <td>Belgium Jupiler League</td>\n",
       "      <td>KSV Cercle Brugge</td>\n",
       "      <td>RSC Anderlecht</td>\n",
       "      <td>0</td>\n",
       "      <td>3</td>\n",
       "      <td>3</td>\n",
       "      <td>RSC Anderlecht</td>\n",
       "      <td>KSV Cercle Brugge</td>\n",
       "      <td>AW</td>\n",
       "    </tr>\n",
       "    <tr>\n",
       "      <th>3</th>\n",
       "      <td>2008/2009</td>\n",
       "      <td>1</td>\n",
       "      <td>2008-08-17</td>\n",
       "      <td>Belgium</td>\n",
       "      <td>Belgium Jupiler League</td>\n",
       "      <td>KAA Gent</td>\n",
       "      <td>RAEC Mons</td>\n",
       "      <td>5</td>\n",
       "      <td>0</td>\n",
       "      <td>5</td>\n",
       "      <td>KAA Gent</td>\n",
       "      <td>RAEC Mons</td>\n",
       "      <td>HW</td>\n",
       "    </tr>\n",
       "    <tr>\n",
       "      <th>4</th>\n",
       "      <td>2008/2009</td>\n",
       "      <td>1</td>\n",
       "      <td>2008-08-16</td>\n",
       "      <td>Belgium</td>\n",
       "      <td>Belgium Jupiler League</td>\n",
       "      <td>FCV Dender EH</td>\n",
       "      <td>Standard de Liège</td>\n",
       "      <td>1</td>\n",
       "      <td>3</td>\n",
       "      <td>4</td>\n",
       "      <td>Standard de Liège</td>\n",
       "      <td>FCV Dender EH</td>\n",
       "      <td>AW</td>\n",
       "    </tr>\n",
       "  </tbody>\n",
       "</table>\n",
       "</div>"
      ],
      "text/plain": [
       "      season  stage       date  country                  league  \\\n",
       "0  2008/2009      1 2008-08-17  Belgium  Belgium Jupiler League   \n",
       "1  2008/2009      1 2008-08-16  Belgium  Belgium Jupiler League   \n",
       "2  2008/2009      1 2008-08-16  Belgium  Belgium Jupiler League   \n",
       "3  2008/2009      1 2008-08-17  Belgium  Belgium Jupiler League   \n",
       "4  2008/2009      1 2008-08-16  Belgium  Belgium Jupiler League   \n",
       "\n",
       "           home_team          away_team  home_team_goal  away_team_goal  \\\n",
       "0           KRC Genk       Beerschot AC               1               1   \n",
       "1   SV Zulte-Waregem   Sporting Lokeren               0               0   \n",
       "2  KSV Cercle Brugge     RSC Anderlecht               0               3   \n",
       "3           KAA Gent          RAEC Mons               5               0   \n",
       "4      FCV Dender EH  Standard de Liège               1               3   \n",
       "\n",
       "   total_goals       winning_team        losing_team result  \n",
       "0            2                NaN                NaN      D  \n",
       "1            0                NaN                NaN      D  \n",
       "2            3     RSC Anderlecht  KSV Cercle Brugge     AW  \n",
       "3            5           KAA Gent          RAEC Mons     HW  \n",
       "4            4  Standard de Liège      FCV Dender EH     AW  "
      ]
     },
     "execution_count": 166,
     "metadata": {},
     "output_type": "execute_result"
    }
   ],
   "source": [
    "df_match_v2 = df_match_merg[['season', 'stage', 'date', 'country', 'league', 'home_team', 'away_team', 'home_team_goal',\n",
    "                             'away_team_goal', 'total_goals', 'winning_team','losing_team', 'result']]\n",
    "df_match_v2.head()"
   ]
  },
  {
   "cell_type": "markdown",
   "id": "a93096c3-e4cb-4e9b-be9e-e6c666183beb",
   "metadata": {},
   "source": [
    "<a id='eda'></a>\n",
    "## Exploratory Data Analysis\n",
    "\n",
    "### What Season has the most scored goals over the time period?"
   ]
  },
  {
   "cell_type": "markdown",
   "id": "96d61dc7-5fdd-4157-b395-92f71dde90b5",
   "metadata": {},
   "source": [
    "> Insert the scored goals per season in a new dataframe"
   ]
  },
  {
   "cell_type": "code",
   "execution_count": 167,
   "id": "f69b3e84-cf2a-49e5-97c8-12dc1c1943fc",
   "metadata": {},
   "outputs": [
    {
     "data": {
      "text/html": [
       "<div>\n",
       "<style scoped>\n",
       "    .dataframe tbody tr th:only-of-type {\n",
       "        vertical-align: middle;\n",
       "    }\n",
       "\n",
       "    .dataframe tbody tr th {\n",
       "        vertical-align: top;\n",
       "    }\n",
       "\n",
       "    .dataframe thead th {\n",
       "        text-align: right;\n",
       "    }\n",
       "</style>\n",
       "<table border=\"1\" class=\"dataframe\">\n",
       "  <thead>\n",
       "    <tr style=\"text-align: right;\">\n",
       "      <th></th>\n",
       "      <th>season</th>\n",
       "      <th>stage</th>\n",
       "      <th>home_team_goal</th>\n",
       "      <th>away_team_goal</th>\n",
       "      <th>total_goals</th>\n",
       "    </tr>\n",
       "  </thead>\n",
       "  <tbody>\n",
       "    <tr>\n",
       "      <th>0</th>\n",
       "      <td>2008/2009</td>\n",
       "      <td>60921</td>\n",
       "      <td>5007</td>\n",
       "      <td>3665</td>\n",
       "      <td>8672</td>\n",
       "    </tr>\n",
       "    <tr>\n",
       "      <th>1</th>\n",
       "      <td>2009/2010</td>\n",
       "      <td>58821</td>\n",
       "      <td>4978</td>\n",
       "      <td>3654</td>\n",
       "      <td>8632</td>\n",
       "    </tr>\n",
       "    <tr>\n",
       "      <th>2</th>\n",
       "      <td>2010/2011</td>\n",
       "      <td>59286</td>\n",
       "      <td>5048</td>\n",
       "      <td>3701</td>\n",
       "      <td>8749</td>\n",
       "    </tr>\n",
       "    <tr>\n",
       "      <th>3</th>\n",
       "      <td>2011/2012</td>\n",
       "      <td>58203</td>\n",
       "      <td>5064</td>\n",
       "      <td>3683</td>\n",
       "      <td>8747</td>\n",
       "    </tr>\n",
       "    <tr>\n",
       "      <th>4</th>\n",
       "      <td>2012/2013</td>\n",
       "      <td>59286</td>\n",
       "      <td>5053</td>\n",
       "      <td>3986</td>\n",
       "      <td>9039</td>\n",
       "    </tr>\n",
       "    <tr>\n",
       "      <th>5</th>\n",
       "      <td>2013/2014</td>\n",
       "      <td>55608</td>\n",
       "      <td>4787</td>\n",
       "      <td>3602</td>\n",
       "      <td>8389</td>\n",
       "    </tr>\n",
       "    <tr>\n",
       "      <th>6</th>\n",
       "      <td>2014/2015</td>\n",
       "      <td>60883</td>\n",
       "      <td>5055</td>\n",
       "      <td>3842</td>\n",
       "      <td>8897</td>\n",
       "    </tr>\n",
       "    <tr>\n",
       "      <th>7</th>\n",
       "      <td>2015/2016</td>\n",
       "      <td>60921</td>\n",
       "      <td>5135</td>\n",
       "      <td>4027</td>\n",
       "      <td>9162</td>\n",
       "    </tr>\n",
       "  </tbody>\n",
       "</table>\n",
       "</div>"
      ],
      "text/plain": [
       "      season  stage  home_team_goal  away_team_goal  total_goals\n",
       "0  2008/2009  60921            5007            3665         8672\n",
       "1  2009/2010  58821            4978            3654         8632\n",
       "2  2010/2011  59286            5048            3701         8749\n",
       "3  2011/2012  58203            5064            3683         8747\n",
       "4  2012/2013  59286            5053            3986         9039\n",
       "5  2013/2014  55608            4787            3602         8389\n",
       "6  2014/2015  60883            5055            3842         8897\n",
       "7  2015/2016  60921            5135            4027         9162"
      ]
     },
     "execution_count": 167,
     "metadata": {},
     "output_type": "execute_result"
    }
   ],
   "source": [
    "df_season_goal = df_match_v2.groupby(['season']).sum().sort_values(['season'], ascending = True).reset_index()\n",
    "df_season_goal"
   ]
  },
  {
   "cell_type": "code",
   "execution_count": 168,
   "id": "a2066905-bf33-402e-8be2-4b3c389c23e9",
   "metadata": {},
   "outputs": [
    {
     "data": {
      "image/png": "[encoded data removed]",
      "text/plain": [
       "<Figure size 1008x504 with 1 Axes>"
      ]
     },
     "metadata": {
      "needs_background": "light"
     },
     "output_type": "display_data"
    }
   ],
   "source": [
    "plt.figure(figsize=[14, 7])\n",
    "col_map = plt.get_cmap('tab20c')\n",
    "\n",
    "\n",
    "pl = plt.bar(df_season_goal.season, df_season_goal.total_goals, width = 0.7, color = col_map.colors, \n",
    "        edgecolor='k', linewidth = 1)\n",
    "\n",
    "for bar in pl:\n",
    "    plt.annotate(bar.get_height(), \n",
    "                 xy=(bar.get_x() + 0.2, bar.get_height() + 100), \n",
    "                     fontsize = 12)\n",
    "\n",
    "plt.ylabel('Goals Scored', fontsize = 15)\n",
    "plt.xlabel('Season', fontsize = 15)\n",
    "plt.title('Goals scored per Season', fontsize = 20)\n",
    "plt.show()"
   ]
  },
  {
   "cell_type": "markdown",
   "id": "3b661107-41a1-454d-96fd-b279b58a2e73",
   "metadata": {},
   "source": [
    "### Which teams has the most home goals and away goals over the time period?"
   ]
  },
  {
   "cell_type": "markdown",
   "id": "d543c3eb-1701-4351-8534-6d7a611cfee9",
   "metadata": {},
   "source": [
    "> Most home goals scoring teams"
   ]
  },
  {
   "cell_type": "code",
   "execution_count": 169,
   "id": "48a0cc32-022d-4f0f-b622-cfb4566b91b2",
   "metadata": {},
   "outputs": [
    {
     "data": {
      "text/html": [
       "<div>\n",
       "<style scoped>\n",
       "    .dataframe tbody tr th:only-of-type {\n",
       "        vertical-align: middle;\n",
       "    }\n",
       "\n",
       "    .dataframe tbody tr th {\n",
       "        vertical-align: top;\n",
       "    }\n",
       "\n",
       "    .dataframe thead th {\n",
       "        text-align: right;\n",
       "    }\n",
       "</style>\n",
       "<table border=\"1\" class=\"dataframe\">\n",
       "  <thead>\n",
       "    <tr style=\"text-align: right;\">\n",
       "      <th></th>\n",
       "      <th>home_team</th>\n",
       "      <th>stage</th>\n",
       "      <th>home_team_goal</th>\n",
       "      <th>away_team_goal</th>\n",
       "      <th>total_goals</th>\n",
       "    </tr>\n",
       "  </thead>\n",
       "  <tbody>\n",
       "    <tr>\n",
       "      <th>0</th>\n",
       "      <td>Real Madrid CF</td>\n",
       "      <td>2983</td>\n",
       "      <td>505</td>\n",
       "      <td>147</td>\n",
       "      <td>652</td>\n",
       "    </tr>\n",
       "    <tr>\n",
       "      <th>1</th>\n",
       "      <td>FC Barcelona</td>\n",
       "      <td>2964</td>\n",
       "      <td>495</td>\n",
       "      <td>101</td>\n",
       "      <td>596</td>\n",
       "    </tr>\n",
       "    <tr>\n",
       "      <th>2</th>\n",
       "      <td>Celtic</td>\n",
       "      <td>2936</td>\n",
       "      <td>389</td>\n",
       "      <td>88</td>\n",
       "      <td>477</td>\n",
       "    </tr>\n",
       "    <tr>\n",
       "      <th>3</th>\n",
       "      <td>FC Bayern Munich</td>\n",
       "      <td>2329</td>\n",
       "      <td>382</td>\n",
       "      <td>96</td>\n",
       "      <td>478</td>\n",
       "    </tr>\n",
       "    <tr>\n",
       "      <th>4</th>\n",
       "      <td>PSV</td>\n",
       "      <td>2375</td>\n",
       "      <td>370</td>\n",
       "      <td>126</td>\n",
       "      <td>496</td>\n",
       "    </tr>\n",
       "    <tr>\n",
       "      <th>...</th>\n",
       "      <td>...</td>\n",
       "      <td>...</td>\n",
       "      <td>...</td>\n",
       "      <td>...</td>\n",
       "      <td>...</td>\n",
       "    </tr>\n",
       "    <tr>\n",
       "      <th>291</th>\n",
       "      <td>Trofense</td>\n",
       "      <td>225</td>\n",
       "      <td>14</td>\n",
       "      <td>21</td>\n",
       "      <td>35</td>\n",
       "    </tr>\n",
       "    <tr>\n",
       "      <th>292</th>\n",
       "      <td>AC Arles-Avignon</td>\n",
       "      <td>372</td>\n",
       "      <td>14</td>\n",
       "      <td>31</td>\n",
       "      <td>45</td>\n",
       "    </tr>\n",
       "    <tr>\n",
       "      <th>293</th>\n",
       "      <td>Feirense</td>\n",
       "      <td>225</td>\n",
       "      <td>13</td>\n",
       "      <td>19</td>\n",
       "      <td>32</td>\n",
       "    </tr>\n",
       "    <tr>\n",
       "      <th>294</th>\n",
       "      <td>Córdoba CF</td>\n",
       "      <td>361</td>\n",
       "      <td>12</td>\n",
       "      <td>33</td>\n",
       "      <td>45</td>\n",
       "    </tr>\n",
       "    <tr>\n",
       "      <th>295</th>\n",
       "      <td>SpVgg Greuther Fürth</td>\n",
       "      <td>289</td>\n",
       "      <td>10</td>\n",
       "      <td>36</td>\n",
       "      <td>46</td>\n",
       "    </tr>\n",
       "  </tbody>\n",
       "</table>\n",
       "<p>296 rows × 5 columns</p>\n",
       "</div>"
      ],
      "text/plain": [
       "                home_team  stage  home_team_goal  away_team_goal  total_goals\n",
       "0          Real Madrid CF   2983             505             147          652\n",
       "1            FC Barcelona   2964             495             101          596\n",
       "2                  Celtic   2936             389              88          477\n",
       "3        FC Bayern Munich   2329             382              96          478\n",
       "4                     PSV   2375             370             126          496\n",
       "..                    ...    ...             ...             ...          ...\n",
       "291              Trofense    225              14              21           35\n",
       "292      AC Arles-Avignon    372              14              31           45\n",
       "293              Feirense    225              13              19           32\n",
       "294            Córdoba CF    361              12              33           45\n",
       "295  SpVgg Greuther Fürth    289              10              36           46\n",
       "\n",
       "[296 rows x 5 columns]"
      ]
     },
     "execution_count": 169,
     "metadata": {},
     "output_type": "execute_result"
    }
   ],
   "source": [
    "df_team_hg = df_match_v2.groupby(['home_team']).sum().sort_values(['home_team_goal'], ascending = False).reset_index()\n",
    "df_team_hg"
   ]
  },
  {
   "cell_type": "markdown",
   "id": "cd572767-17fd-45c6-87f6-a93fea0bbdad",
   "metadata": {},
   "source": [
    "> Plot the first five teams"
   ]
  },
  {
   "cell_type": "code",
   "execution_count": 170,
   "id": "e8a6737d-6148-4915-be14-30d50a1f8222",
   "metadata": {},
   "outputs": [
    {
     "data": {
      "image/png": "[encoded data removed]",
      "text/plain": [
       "<Figure size 1008x504 with 1 Axes>"
      ]
     },
     "metadata": {
      "needs_background": "light"
     },
     "output_type": "display_data"
    }
   ],
   "source": [
    "plt.figure(figsize=[14, 7])\n",
    "col_map = plt.get_cmap('tab20c')\n",
    "\n",
    "\n",
    "pl = plt.bar(df_team_hg.home_team[0:5], df_team_hg.home_team_goal[0:5], width = 0.7, color = col_map.colors, \n",
    "        edgecolor = 'k', linewidth = 1)\n",
    "\n",
    "for bar in pl:\n",
    "    plt.annotate(bar.get_height(), \n",
    "                 xy=(bar.get_x() + 0.3, bar.get_height() + 10), \n",
    "                     fontsize = 12)\n",
    "\n",
    "plt.ylabel('Home Goals Scored', fontsize = 15)\n",
    "plt.xlabel('Team', fontsize = 15)\n",
    "plt.title('Home Goals scored', fontsize = 20)\n",
    "plt.show()"
   ]
  },
  {
   "cell_type": "markdown",
   "id": "8d21cdf3-b4a2-4d5e-8cf3-7afb4b640672",
   "metadata": {},
   "source": [
    "> Most away goals scoring teams"
   ]
  },
  {
   "cell_type": "code",
   "execution_count": 171,
   "id": "87b4f6a2-ad39-4630-831a-cf1413340002",
   "metadata": {},
   "outputs": [
    {
     "data": {
      "text/html": [
       "<div>\n",
       "<style scoped>\n",
       "    .dataframe tbody tr th:only-of-type {\n",
       "        vertical-align: middle;\n",
       "    }\n",
       "\n",
       "    .dataframe tbody tr th {\n",
       "        vertical-align: top;\n",
       "    }\n",
       "\n",
       "    .dataframe thead th {\n",
       "        text-align: right;\n",
       "    }\n",
       "</style>\n",
       "<table border=\"1\" class=\"dataframe\">\n",
       "  <thead>\n",
       "    <tr style=\"text-align: right;\">\n",
       "      <th></th>\n",
       "      <th>away_team</th>\n",
       "      <th>stage</th>\n",
       "      <th>home_team_goal</th>\n",
       "      <th>away_team_goal</th>\n",
       "      <th>total_goals</th>\n",
       "    </tr>\n",
       "  </thead>\n",
       "  <tbody>\n",
       "    <tr>\n",
       "      <th>0</th>\n",
       "      <td>FC Barcelona</td>\n",
       "      <td>2964</td>\n",
       "      <td>131</td>\n",
       "      <td>354</td>\n",
       "      <td>485</td>\n",
       "    </tr>\n",
       "    <tr>\n",
       "      <th>1</th>\n",
       "      <td>Real Madrid CF</td>\n",
       "      <td>2945</td>\n",
       "      <td>157</td>\n",
       "      <td>338</td>\n",
       "      <td>495</td>\n",
       "    </tr>\n",
       "    <tr>\n",
       "      <th>2</th>\n",
       "      <td>Celtic</td>\n",
       "      <td>2992</td>\n",
       "      <td>135</td>\n",
       "      <td>306</td>\n",
       "      <td>441</td>\n",
       "    </tr>\n",
       "    <tr>\n",
       "      <th>3</th>\n",
       "      <td>Ajax</td>\n",
       "      <td>2372</td>\n",
       "      <td>158</td>\n",
       "      <td>287</td>\n",
       "      <td>445</td>\n",
       "    </tr>\n",
       "    <tr>\n",
       "      <th>4</th>\n",
       "      <td>PSV</td>\n",
       "      <td>2385</td>\n",
       "      <td>168</td>\n",
       "      <td>282</td>\n",
       "      <td>450</td>\n",
       "    </tr>\n",
       "    <tr>\n",
       "      <th>...</th>\n",
       "      <td>...</td>\n",
       "      <td>...</td>\n",
       "      <td>...</td>\n",
       "      <td>...</td>\n",
       "      <td>...</td>\n",
       "    </tr>\n",
       "    <tr>\n",
       "      <th>291</th>\n",
       "      <td>Hércules Club de Fútbol</td>\n",
       "      <td>361</td>\n",
       "      <td>33</td>\n",
       "      <td>9</td>\n",
       "      <td>42</td>\n",
       "    </tr>\n",
       "    <tr>\n",
       "      <th>292</th>\n",
       "      <td>Uniao da Madeira</td>\n",
       "      <td>306</td>\n",
       "      <td>33</td>\n",
       "      <td>8</td>\n",
       "      <td>41</td>\n",
       "    </tr>\n",
       "    <tr>\n",
       "      <th>293</th>\n",
       "      <td>AC Arles-Avignon</td>\n",
       "      <td>369</td>\n",
       "      <td>39</td>\n",
       "      <td>7</td>\n",
       "      <td>46</td>\n",
       "    </tr>\n",
       "    <tr>\n",
       "      <th>294</th>\n",
       "      <td>Reggio Calabria</td>\n",
       "      <td>361</td>\n",
       "      <td>35</td>\n",
       "      <td>7</td>\n",
       "      <td>42</td>\n",
       "    </tr>\n",
       "    <tr>\n",
       "      <th>295</th>\n",
       "      <td>FC Metz</td>\n",
       "      <td>352</td>\n",
       "      <td>29</td>\n",
       "      <td>5</td>\n",
       "      <td>34</td>\n",
       "    </tr>\n",
       "  </tbody>\n",
       "</table>\n",
       "<p>296 rows × 5 columns</p>\n",
       "</div>"
      ],
      "text/plain": [
       "                   away_team  stage  home_team_goal  away_team_goal  \\\n",
       "0               FC Barcelona   2964             131             354   \n",
       "1             Real Madrid CF   2945             157             338   \n",
       "2                     Celtic   2992             135             306   \n",
       "3                       Ajax   2372             158             287   \n",
       "4                        PSV   2385             168             282   \n",
       "..                       ...    ...             ...             ...   \n",
       "291  Hércules Club de Fútbol    361              33               9   \n",
       "292         Uniao da Madeira    306              33               8   \n",
       "293         AC Arles-Avignon    369              39               7   \n",
       "294          Reggio Calabria    361              35               7   \n",
       "295                  FC Metz    352              29               5   \n",
       "\n",
       "     total_goals  \n",
       "0            485  \n",
       "1            495  \n",
       "2            441  \n",
       "3            445  \n",
       "4            450  \n",
       "..           ...  \n",
       "291           42  \n",
       "292           41  \n",
       "293           46  \n",
       "294           42  \n",
       "295           34  \n",
       "\n",
       "[296 rows x 5 columns]"
      ]
     },
     "execution_count": 171,
     "metadata": {},
     "output_type": "execute_result"
    }
   ],
   "source": [
    "df_team_ag = df_match_v2.groupby(['away_team']).sum().sort_values(['away_team_goal'], ascending = False).reset_index()\n",
    "df_team_ag"
   ]
  },
  {
   "cell_type": "markdown",
   "id": "9d187e41-8333-42de-8d9e-986a55c4fa3b",
   "metadata": {},
   "source": [
    "> Plot the first five teams"
   ]
  },
  {
   "cell_type": "code",
   "execution_count": 172,
   "id": "dff68c77-d907-4a1d-9974-d3770cb12969",
   "metadata": {},
   "outputs": [
    {
     "data": {
      "image/png": "[encoded data removed]",
      "text/plain": [
       "<Figure size 1008x504 with 1 Axes>"
      ]
     },
     "metadata": {
      "needs_background": "light"
     },
     "output_type": "display_data"
    }
   ],
   "source": [
    "plt.figure(figsize=[14, 7])\n",
    "col_map = plt.get_cmap('tab20c')\n",
    "\n",
    "\n",
    "pl = plt.bar(df_team_ag.away_team[0:5], df_team_ag.away_team_goal[0:5], width = 0.7, color = col_map.colors, \n",
    "        edgecolor = 'k', linewidth = 1)\n",
    "\n",
    "for bar in pl:\n",
    "    plt.annotate(bar.get_height(), \n",
    "                 xy=(bar.get_x() + 0.3, bar.get_height() + 10), \n",
    "                     fontsize = 12)\n",
    "\n",
    "plt.ylabel('Away Goals Scored', fontsize = 15)\n",
    "plt.xlabel('Team', fontsize = 15)\n",
    "plt.title('Away Goals scored', fontsize = 20)\n",
    "plt.show()"
   ]
  },
  {
   "cell_type": "markdown",
   "id": "41287e6a-d216-4aec-bfa2-225dc4389d0d",
   "metadata": {},
   "source": [
    "### Which players had the most penalties?"
   ]
  },
  {
   "cell_type": "markdown",
   "id": "b86f924a-33e8-4310-8aa0-ac5598cda305",
   "metadata": {},
   "source": [
    "Define an empty list to which the penalty scorers will be appended "
   ]
  },
  {
   "cell_type": "code",
   "execution_count": 173,
   "id": "651927d9-fb2d-4f81-84ac-289a1cd0f0a6",
   "metadata": {},
   "outputs": [],
   "source": [
    "pen_list = []"
   ]
  },
  {
   "cell_type": "markdown",
   "id": "d963b883-e119-4139-a28d-f2f77d1c8eee",
   "metadata": {},
   "source": [
    "Drop the rows with null goal cells "
   ]
  },
  {
   "cell_type": "code",
   "execution_count": 174,
   "id": "cc6d8cf1-ffc1-4e75-8d54-03f83845d63e",
   "metadata": {},
   "outputs": [],
   "source": [
    "df_g = df_match[df_match['goal'].notna()]"
   ]
  },
  {
   "cell_type": "markdown",
   "id": "ee52e33f-4c5e-43d3-bf7f-b6d7e14910b5",
   "metadata": {},
   "source": [
    ">Loop over each match and append the player to pen_list if a penalty was scored"
   ]
  },
  {
   "cell_type": "code",
   "execution_count": 175,
   "id": "8da8007f-50f4-4865-aaff-9963efcb53c8",
   "metadata": {},
   "outputs": [],
   "source": [
    "for index, row in df_g.iterrows():\n",
    "    soup = BeautifulSoup(df_g.goal[index],'lxml') \n",
    "    hamada = soup.find_all('penalties')\n",
    "    if hamada: \n",
    "        for i in soup.penalties:\n",
    "            pen_goal = soup.penalties\n",
    "            pen_player_id = pen_goal.find_next(\"player1\").text\n",
    "            pen_list.append({'pen_player_id': pen_player_id })"
   ]
  },
  {
   "cell_type": "code",
   "execution_count": 176,
   "id": "aac78726-0dbb-4110-b3dd-02c8985e5698",
   "metadata": {},
   "outputs": [],
   "source": [
    "df_pen_player = pd.DataFrame(pen_list, columns = ['pen_player_id'])"
   ]
  },
  {
   "cell_type": "markdown",
   "id": "eabe91cb-cf85-473b-82e3-6b2026d63f8a",
   "metadata": {},
   "source": [
    ">Display the list of most players to score penalties descendingly"
   ]
  },
  {
   "cell_type": "code",
   "execution_count": 177,
   "id": "6b3c8259-3f8b-4fc3-bccd-8d0bf27cda80",
   "metadata": {},
   "outputs": [
    {
     "data": {
      "text/plain": [
       "pen_player_id\n",
       "30893            47\n",
       "35724            37\n",
       "30981            31\n",
       "27734            25\n",
       "30714            23\n",
       "                 ..\n",
       "37154             1\n",
       "243163            1\n",
       "36774             1\n",
       "36623             1\n",
       "101041            1\n",
       "Length: 772, dtype: int64"
      ]
     },
     "execution_count": 177,
     "metadata": {},
     "output_type": "execute_result"
    }
   ],
   "source": [
    "df_pen_player.value_counts()"
   ]
  },
  {
   "cell_type": "code",
   "execution_count": 178,
   "id": "081a4717-9855-40c9-a06e-a78460b8319e",
   "metadata": {},
   "outputs": [
    {
     "data": {
      "text/plain": [
       "30893"
      ]
     },
     "execution_count": 178,
     "metadata": {},
     "output_type": "execute_result"
    }
   ],
   "source": [
    "idx = int(df_pen_player['pen_player_id'].mode()[0])\n",
    "idx"
   ]
  },
  {
   "cell_type": "code",
   "execution_count": 179,
   "id": "8903388c-a115-458d-a251-1b1573d53296",
   "metadata": {},
   "outputs": [
    {
     "name": "stdout",
     "output_type": "stream",
     "text": [
      "The most penalties scorer over the time period is: Cristiano Ronaldo\n"
     ]
    }
   ],
   "source": [
    "m = df_player.player_name[df_player['player_api_id'] == idx].to_string(index=False)\n",
    "print('The most penalties scorer over the time period is: {}'.format(m))\n"
   ]
  },
  {
   "cell_type": "markdown",
   "id": "42b16f9e-2099-4236-ae1c-5eb2e76cbd23",
   "metadata": {
    "tags": []
   },
   "source": [
    "### In what percentage does the field affect the result?"
   ]
  },
  {
   "cell_type": "markdown",
   "id": "66d031b9-5546-4c2f-95b2-6f96c6d3b763",
   "metadata": {},
   "source": [
    "> Create a dataframe to store the percentage of every result"
   ]
  },
  {
   "cell_type": "code",
   "execution_count": 180,
   "id": "dc4469c0-0468-42c7-b976-0693715e59f1",
   "metadata": {},
   "outputs": [],
   "source": [
    "df_win_percent = pd.DataFrame({\n",
    "    'Home Wins': [len(df_match_v2[df_match_v2['result'] == 'HW']) / len(df_match_v2)*100],\n",
    "    'Away Wins': [len(df_match_v2[df_match_v2['result'] == 'AW']) / len(df_match_v2)*100],\n",
    "    'Draw': [len(df_match_v2[df_match_v2['result'] == 'D']) / len(df_match_v2)*100]})"
   ]
  },
  {
   "cell_type": "markdown",
   "id": "721cabcb-6650-4297-a820-05856152d6dd",
   "metadata": {},
   "source": [
    "> Specify the plot specs "
   ]
  },
  {
   "cell_type": "code",
   "execution_count": 181,
   "id": "f4b57a90-e246-4e04-b9a5-423e21cfc9fc",
   "metadata": {},
   "outputs": [
    {
     "data": {
      "text/plain": [
       "<matplotlib.patches.Circle at 0x2025a1671f0>"
      ]
     },
     "execution_count": 181,
     "metadata": {},
     "output_type": "execute_result"
    },
    {
     "data": {
      "text/plain": [
       "<Figure size 432x432 with 0 Axes>"
      ]
     },
     "metadata": {},
     "output_type": "display_data"
    },
    {
     "data": {
      "image/png": "[encoded data removed]",
      "text/plain": [
       "<Figure size 432x288 with 1 Axes>"
      ]
     },
     "metadata": {},
     "output_type": "display_data"
    }
   ],
   "source": [
    "plt.figure(figsize = (6,6))\n",
    "plt.figure(facecolor='white')\n",
    "patches, text, autotext = plt.pie(df_win_percent.iloc[0], labels = df_win_percent.columns, startangle = 45, autopct = '%1.1f%%',\n",
    "                              explode = (0.03, 0, 0), radius = 1.5, colors = sns.color_palette(\"Set2\"), \n",
    "                              wedgeprops = {'edgecolor':'k'})\n",
    "\n",
    "for  x in text:\n",
    "    x.set_fontsize(15)\n",
    "for y in autotext:\n",
    "    y.set_fontsize(12)\n",
    "\n",
    "    \n",
    "centre_circle = plt.Circle((0,0), 1.2, fc='white', edgecolor = 'k')\n",
    "fig = plt.gcf()\n",
    "fig.gca().add_artist(centre_circle)"
   ]
  },
  {
   "cell_type": "markdown",
   "id": "b09c545d-b663-4178-9a5e-e4b79c167f4b",
   "metadata": {},
   "source": [
    ">Lastly, close the connection"
   ]
  },
  {
   "cell_type": "code",
   "execution_count": 182,
   "id": "98152085-1585-46e1-a82f-2ca47feb88c7",
   "metadata": {},
   "outputs": [],
   "source": [
    "con.close()"
   ]
  },
  {
   "cell_type": "markdown",
   "id": "7caf2d69-856f-4117-a895-cbf4d2fae9e8",
   "metadata": {},
   "source": [
    "<a id='conclusions'></a>\n",
    "## Conclusions"
   ]
  },
  {
   "cell_type": "markdown",
   "id": "f50c4544-af68-48bb-a3b9-8a36a1996b3c",
   "metadata": {},
   "source": [
    "> The previous analyses showed that, 2015/2016 season was the season in which the most goals were scored, Real Madrid CF and FC Barcelona were dominating goal scoaring in both the home and away games over the spcified period, Cristiano Ronaldo was the most player scoring goals from penalties, over the spcified period, and finally, the pie chart impliesthat it is most likely to win the game if team is playing on its field.\n",
    ">\n",
    "> Some of the limitations that the project was facing are, the lack of context and data in some rows in the match database. columns such as goal, card, and other column given in html format, beside the html text was not written a tradional formmat, lack context to the variable within."
   ]
  },
  {
   "cell_type": "code",
   "execution_count": null,
   "id": "0622ceb3-b593-45c7-a222-be72f6252480",
   "metadata": {},
   "outputs": [],
   "source": []
  }
 ],
 "metadata": {
  "kernelspec": {
   "display_name": "Python 3 (ipykernel)",
   "language": "python",
   "name": "python3"
  },
  "language_info": {
   "codemirror_mode": {
    "name": "ipython",
    "version": 3
   },
   "file_extension": ".py",
   "mimetype": "text/x-python",
   "name": "python",
   "nbconvert_exporter": "python",
   "pygments_lexer": "ipython3",
   "version": "3.9.7"
  }
 },
 "nbformat": 4,
 "nbformat_minor": 5
}
